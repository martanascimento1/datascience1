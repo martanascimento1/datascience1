{
 "cells": [
  {
   "attachments": {},
   "cell_type": "markdown",
   "metadata": {},
   "source": [
    "**_Fluxo do projeto:_**\n",
    "1 --> dados do sonar\n",
    "2 --> pré processamento de dados\n",
    "3 --> divisão de treino e teste\n",
    "4 --> modelo de regressão logística\n",
    "5 --> novos dados\n",
    "6 --> modelo de regressão logística treinado\n",
    "7 --> predição"
   ]
  },
  {
   "cell_type": "code",
   "execution_count": null,
   "metadata": {},
   "outputs": [],
   "source": []
  }
 ],
 "metadata": {
  "kernelspec": {
   "display_name": "StatsM",
   "language": "python",
   "name": "python3"
  },
  "language_info": {
   "name": "python",
   "version": "3.10.6 (main, Nov 14 2022, 16:10:14) [GCC 11.3.0]"
  },
  "orig_nbformat": 4,
  "vscode": {
   "interpreter": {
    "hash": "aec7dce2846ecf17c483f921b2652d608b8c916a25647836fd7e7be29ab67bb2"
   }
  }
 },
 "nbformat": 4,
 "nbformat_minor": 2
}
