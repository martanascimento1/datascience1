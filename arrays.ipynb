{
 "cells": [
  {
   "cell_type": "code",
   "execution_count": null,
   "metadata": {},
   "outputs": [],
   "source": [
    "# Numpy arrays\n",
    "import numpy as np\n",
    "np.sqrt(25)\n"
   ]
  },
  {
   "cell_type": "code",
   "execution_count": null,
   "metadata": {},
   "outputs": [],
   "source": [
    "#criando arrays\n",
    "\n",
    "import numpy as np\n",
    "x = np.array ([1, 2, 3, 4])\n",
    "#print (x)\n",
    "#print (type(x))\n",
    "#print (np.ndim(x))\n",
    "\n",
    "#aceso aos elementos de um vetor\n",
    "\n",
    "#x[0]     #primeiro elemento\n",
    "#x[-1]    #último elemento\n",
    "#x[1:3]   #intervalos\n",
    "#x[:3]    #omissão de índice\n",
    "#x[1:]    #omissão de índice\n",
    "\n",
    "#indexação com passo\n",
    "y = [2, 8, 9, 10, 12, 13, 15]\n",
    "y[1:6:2]\n",
    "\n",
    "\n"
   ]
  },
  {
   "cell_type": "code",
   "execution_count": null,
   "metadata": {},
   "outputs": [],
   "source": [
    "#matriz a partir de listas\n",
    "\n",
    "A = ([[3, 2], [5, 3]])\n",
    "#print(A)\n",
    "\n",
    "#acesso aos elementos\n",
    "A[0]  #primeira linha\n",
    "A[0][1]\n"
   ]
  },
  {
   "cell_type": "code",
   "execution_count": null,
   "metadata": {},
   "outputs": [],
   "source": [
    "#Matriz a partir de arrays\n",
    "import numpy as np\n",
    "B = np.array([[5, 3], [1, -2]])\n",
    "#print (B)\n",
    "#np.ndim(B)\n",
    "C = np.array([[2, 0, 4], [1, -3, -2], [1, 2, 1], [0, 5, 3]])\n",
    "#print (C)\n",
    "#np.ndim(C)\n",
    "#np.shape(C)\n",
    "\n",
    "D = np.array([[2, 2],[2, 2]])\n",
    "#print (D)\n",
    "\n",
    "#soma de matrizes\n",
    "soma = B + D\n",
    "#print (soma)\n",
    "\n",
    "#produto de matrizes\n",
    "produto = B.dot(D)\n",
    "#print (produto)\n",
    "\n",
    "#transposição de matrizes\n",
    "transposta = B.transpose()\n",
    "#print (transposta)\n",
    "\n",
    "#acesso aos elementos de um array bidimensional\n",
    "#B[0]     #primeira linha\n",
    "#B[1][0]  #elemento na segunda linha e na primeira coluna\n",
    "\n",
    "C[1:3, 1:3]\n"
   ]
  },
  {
   "attachments": {},
   "cell_type": "markdown",
   "metadata": {},
   "source": [
    "#Construção de sequências"
   ]
  },
  {
   "cell_type": "code",
   "execution_count": null,
   "metadata": {},
   "outputs": [],
   "source": [
    "import numpy as np\n",
    "\n",
    "seqa = np.arange(3)\n",
    "#print (seqa)\n",
    "seqb = np.arange(2,9)\n",
    "#print (seqb)\n",
    "seqc = np.arange(2,7,2)\n",
    "print (seqc)"
   ]
  }
 ],
 "metadata": {
  "kernelspec": {
   "display_name": "Python 3",
   "language": "python",
   "name": "python3"
  },
  "language_info": {
   "name": "python",
   "version": "3.10.6 (main, Nov 14 2022, 16:10:14) [GCC 11.3.0]"
  },
  "orig_nbformat": 4,
  "vscode": {
   "interpreter": {
    "hash": "916dbcbb3f70747c44a77c7bcd40155683ae19c65e1c03b4aa3499c5328201f1"
   }
  }
 },
 "nbformat": 4,
 "nbformat_minor": 2
}
