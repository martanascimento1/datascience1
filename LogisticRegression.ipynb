{
  "nbformat": 4,
  "nbformat_minor": 0,
  "metadata": {
    "colab": {
      "provenance": [],
      "authorship_tag": "ABX9TyON5kkjHbnL9xmsi9GItiwZ",
      "include_colab_link": true
    },
    "kernelspec": {
      "name": "python3",
      "display_name": "Python 3"
    },
    "language_info": {
      "name": "python"
    }
  },
  "cells": [
    {
      "cell_type": "markdown",
      "metadata": {
        "id": "view-in-github",
        "colab_type": "text"
      },
      "source": [
        "<a href=\"https://colab.research.google.com/github/martanascimento1/datascience1/blob/main/LogisticRegression.ipynb\" target=\"_parent\"><img src=\"https://colab.research.google.com/assets/colab-badge.svg\" alt=\"Open In Colab\"/></a>"
      ]
    },
    {
      "cell_type": "markdown",
      "source": [
        "É um algoritmo de classificação binária; Por exemplo, temos duas classes Classe 0 e Classe 1 se o valor da função logística para uma entrada for maior que 0,5 (valor limite), então ela pertence à Classe 1, caso contrário, pertence à Classe 0\n"
      ],
      "metadata": {
        "id": "nWQgss14j4q_"
      }
    },
    {
      "cell_type": "code",
      "source": [
        "from sklearn.datasets import load_iris\n",
        "X,y = load_iris(return_X_y=True, as_frame=True)"
      ],
      "metadata": {
        "id": "S2bmCk0Dl-gS"
      },
      "execution_count": 3,
      "outputs": []
    },
    {
      "cell_type": "code",
      "source": [
        "X = X.loc[y.isin([0,1]), 'petal width (cm)'].values\n",
        "y = y[y.isin([0,1])].values"
      ],
      "metadata": {
        "id": "LSqQVL78mUMb"
      },
      "execution_count": 4,
      "outputs": []
    },
    {
      "cell_type": "markdown",
      "source": [
        "Separar os dados em treino e teste:"
      ],
      "metadata": {
        "id": "bVhHCDncmyIA"
      }
    },
    {
      "cell_type": "code",
      "source": [
        "from sklearn.model_selection import train_test_split\n",
        "X_train, X_test, y_train, y_test = train_test_split(X, y, test_size= 0.33, random_state=42)"
      ],
      "metadata": {
        "id": "40F4VLoMm2o4"
      },
      "execution_count": 5,
      "outputs": []
    },
    {
      "cell_type": "code",
      "source": [
        "import matplotlib.pyplot as plt\n",
        "\n",
        "fig, ax = plt.subplots()\n",
        "\n",
        "ax.scatter(X_train, y_train)\n",
        "\n",
        "ax.set(yticks=[0,1],xticks=[0, 0.3, 0.6, 0.9,1.2 ,1.5 ])\n",
        "\n",
        "plt.show()"
      ],
      "metadata": {
        "colab": {
          "base_uri": "https://localhost:8080/",
          "height": 430
        },
        "id": "bSe7KAkbnZak",
        "outputId": "5b335a07-28db-4012-a62d-a27c51ae5d7b"
      },
      "execution_count": null,
      "outputs": [
        {
          "output_type": "display_data",
          "data": {
            "text/plain": [
              "<Figure size 640x480 with 1 Axes>"
            ],
            "image/png": "[encoded data removed]"
          },
          "metadata": {}
        }
      ]
    },
    {
      "cell_type": "code",
      "source": [
        "#começando a aplicar a regressão logística\n",
        "\n",
        "from sklearn.linear_model import LogisticRegression"
      ],
      "metadata": {
        "id": "QsPbIy3IpwDg"
      },
      "execution_count": null,
      "outputs": []
    },
    {
      "cell_type": "code",
      "source": [
        "#Criando o classificador\n",
        "\n",
        "clf = LogisticRegression(random_state=0).fit(X_train.reshape(-1, 1), y_train)"
      ],
      "metadata": {
        "id": "wFzBcx8DqHk8"
      },
      "execution_count": null,
      "outputs": []
    },
    {
      "cell_type": "code",
      "source": [
        "#verificando o coeficiente angular:\n",
        "\n",
        "w1 = clf.coef_ [0][0]\n"
      ],
      "metadata": {
        "id": "kHrzDOyAqoka"
      },
      "execution_count": null,
      "outputs": []
    },
    {
      "cell_type": "code",
      "source": [
        "#verificando o coeficiente linear:\n",
        "\n",
        "w0 = clf.intercept_[0]"
      ],
      "metadata": {
        "id": "zqEF_nEnqwK_"
      },
      "execution_count": null,
      "outputs": []
    },
    {
      "cell_type": "code",
      "source": [
        "from scipy.special import expit\n"
      ],
      "metadata": {
        "id": "ja7DwSf8rM48"
      },
      "execution_count": null,
      "outputs": []
    },
    {
      "cell_type": "code",
      "source": [
        "import numpy as np\n",
        "\n",
        "valores_x = np.linspace(X_train.min(), X_train.max(), 100)\n",
        "#valores_x"
      ],
      "metadata": {
        "id": "2n549TYgrlHf"
      },
      "execution_count": null,
      "outputs": []
    },
    {
      "cell_type": "code",
      "source": [
        "#calculando o valor para cada valor de  y\n",
        "\n",
        "valores_y = expit(w1*valores_x +w0)"
      ],
      "metadata": {
        "id": "kU5c1DrCr3qm"
      },
      "execution_count": null,
      "outputs": []
    },
    {
      "cell_type": "code",
      "source": [
        "#vizualizando graficamente:\n",
        "\n",
        "fig, ax = plt.subplots()\n",
        "\n",
        "ax.scatter(X_train, y_train)\n",
        "ax.plot(valores_x, valores_y)\n",
        "\n",
        "ax.set(yticks=[0,1],xticks=[0, 0.3, 0.6, 0.9,1.2 ,1.5 ])\n",
        "plt.show()"
      ],
      "metadata": {
        "colab": {
          "base_uri": "https://localhost:8080/",
          "height": 430
        },
        "id": "VbS_fwPttL0r",
        "outputId": "f701d65c-7aa3-403a-ecba-e252de897f9d"
      },
      "execution_count": null,
      "outputs": [
        {
          "output_type": "display_data",
          "data": {
            "text/plain": [
              "<Figure size 640x480 with 1 Axes>"
            ],
            "image/png": "[encoded data removed]"
          },
          "metadata": {}
        }
      ]
    },
    {
      "cell_type": "code",
      "source": [
        "y_curva = expit(w1*X_train+w0)"
      ],
      "metadata": {
        "id": "PGX7Vxi0u93y"
      },
      "execution_count": null,
      "outputs": []
    },
    {
      "cell_type": "code",
      "source": [
        "fig, ax = plt.subplots()\n",
        "\n",
        "ax.scatter(X_train, y_train)\n",
        "ax.plot(valores_x, valores_y)\n",
        "ax.scatter(X_train, y_curva)\n",
        "\n",
        "ax.axhline(y=0.5,c='m',linestyle='--')\n",
        "\n",
        "plt.show()\n"
      ],
      "metadata": {
        "colab": {
          "base_uri": "https://localhost:8080/",
          "height": 430
        },
        "id": "F5hxCwI_vNeN",
        "outputId": "65757c75-9a2f-4155-d8f4-1b7412fe3aae"
      },
      "execution_count": null,
      "outputs": [
        {
          "output_type": "display_data",
          "data": {
            "text/plain": [
              "<Figure size 640x480 with 1 Axes>"
            ],
            "image/png": "[encoded data removed]"
          },
          "metadata": {}
        }
      ]
    },
    {
      "cell_type": "code",
      "source": [
        "expit(w1*0.2+w0)"
      ],
      "metadata": {
        "colab": {
          "base_uri": "https://localhost:8080/"
        },
        "id": "HbKm97WCytej",
        "outputId": "352c76ac-9a12-491b-ee09-16aa5d4069e0"
      },
      "execution_count": null,
      "outputs": [
        {
          "output_type": "execute_result",
          "data": {
            "text/plain": [
              "0.11281795739416337"
            ]
          },
          "metadata": {},
          "execution_count": 40
        }
      ]
    },
    {
      "cell_type": "code",
      "source": [
        "#previsão da probabilidade\n",
        "clf.predict_proba(X_train.reshape(-1,1))[0:5]\n"
      ],
      "metadata": {
        "colab": {
          "base_uri": "https://localhost:8080/"
        },
        "id": "4tIEYkcYxoIa",
        "outputId": "11670214-919f-41a9-cef5-4cc9071b6798"
      },
      "execution_count": null,
      "outputs": [
        {
          "output_type": "execute_result",
          "data": {
            "text/plain": [
              "array([[0.88718204, 0.11281796],\n",
              "       [0.26530911, 0.73469089],\n",
              "       [0.78449692, 0.21550308],\n",
              "       [0.05001742, 0.94998258],\n",
              "       [0.07182627, 0.92817373]])"
            ]
          },
          "metadata": {},
          "execution_count": 38
        }
      ]
    },
    {
      "cell_type": "code",
      "source": [
        "X_train[0:5]"
      ],
      "metadata": {
        "colab": {
          "base_uri": "https://localhost:8080/"
        },
        "id": "CZrUaP3Nx3aW",
        "outputId": "a0b8c0cc-950b-40de-f74b-73607fbd688b"
      },
      "execution_count": null,
      "outputs": [
        {
          "output_type": "execute_result",
          "data": {
            "text/plain": [
              "array([0.2, 1. , 0.4, 1.5, 1.4])"
            ]
          },
          "metadata": {},
          "execution_count": 39
        }
      ]
    },
    {
      "cell_type": "code",
      "source": [
        "y_train[0:5]"
      ],
      "metadata": {
        "colab": {
          "base_uri": "https://localhost:8080/"
        },
        "id": "9BqbKs-ix5Wa",
        "outputId": "9ca69e3f-53c7-438d-c0ab-67eecf7bed61"
      },
      "execution_count": null,
      "outputs": [
        {
          "output_type": "execute_result",
          "data": {
            "text/plain": [
              "array([0, 1, 0, 1, 1, 0, 0, 0, 0, 0, 1, 0, 0, 1, 0, 1, 0, 0, 0, 0, 0, 0,\n",
              "       1, 0, 1, 0, 1, 1, 1, 1, 0, 1, 1, 0, 1, 1, 1, 1, 0, 1, 0, 1, 1, 1,\n",
              "       0, 1, 1, 1, 1, 0, 0, 0, 1, 0, 0, 0, 1, 1, 1, 1, 1, 0, 1, 1, 0, 1,\n",
              "       1])"
            ]
          },
          "metadata": {},
          "execution_count": 35
        }
      ]
    },
    {
      "cell_type": "code",
      "source": [
        "clf.predict_proba(X_test.reshape(-1,1))[0:5]"
      ],
      "metadata": {
        "colab": {
          "base_uri": "https://localhost:8080/"
        },
        "id": "CHa7YPFbyDk-",
        "outputId": "346b822f-57b7-4917-8512-03a8acc04691"
      },
      "execution_count": null,
      "outputs": [
        {
          "output_type": "execute_result",
          "data": {
            "text/plain": [
              "array([[0.03458373, 0.96541627],\n",
              "       [0.10212209, 0.89787791],\n",
              "       [0.01631239, 0.98368761],\n",
              "       [0.84252957, 0.15747043],\n",
              "       [0.78449692, 0.21550308]])"
            ]
          },
          "metadata": {},
          "execution_count": 42
        }
      ]
    },
    {
      "cell_type": "markdown",
      "source": [
        "estimar os recursos mais relevantes;\n",
        "os coeficientes são estimados com base nos dados de treinamento;\n",
        "como resultado o modelo deve retornar os melhores valores próximos de 1 para a classe padrão e próximos de 0 para a outra;\n",
        "então os recursos podem ser classificados por importância com base nos valores retornados pelo modelo logistico;\n"
      ],
      "metadata": {
        "id": "T606OnG2vwHN"
      }
    }
  ]
}