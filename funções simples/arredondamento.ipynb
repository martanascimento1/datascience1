{
 "cells": [
  {
   "cell_type": "code",
   "execution_count": 1,
   "metadata": {},
   "outputs": [
    {
     "data": {
      "text/plain": [
       "array([ 3.9 ,  4.32, -3.99])"
      ]
     },
     "execution_count": 1,
     "metadata": {},
     "output_type": "execute_result"
    }
   ],
   "source": [
    "import numpy as np\n",
    "\n",
    "x = 3.477564\n",
    "\n",
    "np.around(x, 3)\n",
    "\n",
    "y = 3.477364\n",
    "\n",
    "np.around(y,3)\n",
    "\n",
    "z = np.array([3.8988, 4.32, -3.99012])\n",
    "np.around(z, 2)"
   ]
  },
  {
   "cell_type": "code",
   "execution_count": 2,
   "metadata": {},
   "outputs": [
    {
     "data": {
      "text/plain": [
       "5.0"
      ]
     },
     "execution_count": 2,
     "metadata": {},
     "output_type": "execute_result"
    }
   ],
   "source": [
    "# ceil e floor\n",
    "\n",
    "import numpy as np\n",
    "\n",
    "a = 5.90034\n",
    "np.ceil(a)     #arredonda p/ o primeiro inteiro acima (nesse caso 6)\n",
    "np.floor(a)    #arredonda p/ o primeiro inteiro abaixo (nesse caso 5)"
   ]
  },
  {
   "cell_type": "code",
   "execution_count": null,
   "metadata": {},
   "outputs": [],
   "source": [
    "#trunc\n",
    "\n",
    "import numpy as np\n",
    "\n",
    "a = 5.90034\n",
    "np.trunc(a)\n",
    "\n",
    "z = np.array([3.8988, 4.32, -3.99012])\n",
    "np.trunc(z)\n"
   ]
  }
 ],
 "metadata": {
  "kernelspec": {
   "display_name": "Python 3",
   "language": "python",
   "name": "python3"
  },
  "language_info": {
   "codemirror_mode": {
    "name": "ipython",
    "version": 3
   },
   "file_extension": ".py",
   "mimetype": "text/x-python",
   "name": "python",
   "nbconvert_exporter": "python",
   "pygments_lexer": "ipython3",
   "version": "3.12.3"
  },
  "orig_nbformat": 4,
  "vscode": {
   "interpreter": {
    "hash": "916dbcbb3f70747c44a77c7bcd40155683ae19c65e1c03b4aa3499c5328201f1"
   }
  }
 },
 "nbformat": 4,
 "nbformat_minor": 2
}
