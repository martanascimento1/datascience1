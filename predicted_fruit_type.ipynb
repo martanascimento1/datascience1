{
  "nbformat": 4,
  "nbformat_minor": 0,
  "metadata": {
    "colab": {
      "provenance": [],
      "authorship_tag": "ABX9TyMW/3dL69i4UGFtnc9tTqlv",
      "include_colab_link": true
    },
    "kernelspec": {
      "name": "python3",
      "display_name": "Python 3"
    },
    "language_info": {
      "name": "python"
    }
  },
  "cells": [
    {
      "cell_type": "markdown",
      "metadata": {
        "id": "view-in-github",
        "colab_type": "text"
      },
      "source": [
        "<a href=\"https://colab.research.google.com/github/martanascimento1/datascience1/blob/main/predicted_fruit_type.ipynb\" target=\"_parent\"><img src=\"https://colab.research.google.com/assets/colab-badge.svg\" alt=\"Open In Colab\"/></a>"
      ]
    },
    {
      "cell_type": "code",
      "execution_count": 1,
      "metadata": {
        "colab": {
          "base_uri": "https://localhost:8080/"
        },
        "id": "HpmVK_JkhADW",
        "outputId": "090ce34c-300e-4697-972c-24783aaa7c97"
      },
      "outputs": [
        {
          "output_type": "stream",
          "name": "stdout",
          "text": [
            "Predicted fruit type: apple\n"
          ]
        }
      ],
      "source": [
        "from sklearn.tree import DecisionTreeClassifier\n",
        "from sklearn.preprocessing import LabelEncoder\n",
        "\n",
        "# Define the features and target variable\n",
        "features = [\n",
        "    [\"red\", \"large\"],\n",
        "    [\"green\", \"small\"],\n",
        "    [\"red\", \"small\"],\n",
        "    [\"yellow\", \"large\"],\n",
        "    [\"green\", \"large\"],\n",
        "    [\"orange\", \"large\"],\n",
        "]\n",
        "target_variable = [\"apple\", \"lime\", \"strawberry\", \"banana\", \"grape\", \"orange\"]\n",
        "\n",
        "# Flatten the features list for encoding\n",
        "flattened_features = [item for sublist in features for item in sublist]\n",
        "\n",
        "# Use a single LabelEncoder for all features and target variable\n",
        "le = LabelEncoder()\n",
        "le.fit(flattened_features + target_variable)\n",
        "\n",
        "# Encode features and target variable\n",
        "encoded_features = [le.transform(item) for item in features]\n",
        "encoded_target = le.transform(target_variable)\n",
        "\n",
        "# Create a CART classifier\n",
        "clf = DecisionTreeClassifier()\n",
        "\n",
        "# Train the classifier on the training set\n",
        "clf.fit(encoded_features, encoded_target)\n",
        "\n",
        "# Predict the fruit type for a new instance\n",
        "new_instance = [\"red\", \"large\"]\n",
        "encoded_new_instance = le.transform(new_instance)\n",
        "predicted_fruit_type = clf.predict([encoded_new_instance])\n",
        "decoded_predicted_fruit_type = le.inverse_transform(predicted_fruit_type)\n",
        "print(\"Predicted fruit type:\", decoded_predicted_fruit_type[0])\n"
      ]
    }
  ]
}