{
 "cells": [
  {
   "attachments": {},
   "cell_type": "markdown",
   "metadata": {},
   "source": [
    "Dados reais"
   ]
  },
  {
   "cell_type": "code",
   "execution_count": null,
   "metadata": {},
   "outputs": [],
   "source": [
    "from os import chdir\n",
    "import pandas as pd\n",
    "import matplotlib.pyplot as plt\n",
    "import numpy as np\n",
    "import seaborn as sns\n",
    "\n",
    "#mudar o diretório\n",
    "chdir('/home/marta/Downloads/data')\n",
    "\n",
    "data = pd.read_excel('data1.xls')\n",
    "\n",
    "#data.info()\n",
    "#data.head()\n",
    "\n",
    "# variável categórica: sexo\n",
    "\n",
    "#data['Sexo'].value_counts()\n",
    "\n",
    "#sexo_freq = data['Sexo'].value_counts()\n",
    "\n",
    "#sexo_freq.plot(kind = 'bar', title= 'Frequências para os sexos')\n",
    "#plt.show()\n",
    "\n",
    "#crosstab_sexo_turma = pd.crosstab(data['Sexo'], data['Turma'])\n",
    "#crosstab_sexo_turma.plot (kind = 'bar', stacked = True)\n",
    "#plt.show()\n",
    "\n",
    "# variável numérica: altura\n",
    "\n",
    "#data ['Alt'].plot(kind= 'hist')\n",
    "sns.scatterplot('Alt','Peso', data = data)\n",
    "plt.show()\n",
    "\n",
    "\n",
    "\n"
   ]
  }
 ],
 "metadata": {
  "kernelspec": {
   "display_name": "Python 3",
   "language": "python",
   "name": "python3"
  },
  "language_info": {
   "codemirror_mode": {
    "name": "ipython",
    "version": 3
   },
   "file_extension": ".py",
   "mimetype": "text/x-python",
   "name": "python",
   "nbconvert_exporter": "python",
   "pygments_lexer": "ipython3",
   "version": "3.10.6"
  },
  "orig_nbformat": 4,
  "vscode": {
   "interpreter": {
    "hash": "916dbcbb3f70747c44a77c7bcd40155683ae19c65e1c03b4aa3499c5328201f1"
   }
  }
 },
 "nbformat": 4,
 "nbformat_minor": 2
}
