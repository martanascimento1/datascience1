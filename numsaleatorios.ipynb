{
 "cells": [
  {
   "cell_type": "code",
   "execution_count": 15,
   "metadata": {},
   "outputs": [
    {
     "name": "stdout",
     "output_type": "stream",
     "text": [
      "[[92 31  6 88 20 71 13 46 67 92 79 29  4 38 93  8 23 85 32 21]\n",
      " [71 61 87 84 21 30 10 56 54 78 23 54 64 57 20 89 19 37 30 71]\n",
      " [16 39 35 31 99 38 68 86 22 60 60  7 85 91 26 67 97 77  6 67]\n",
      " [39 71 15 81 57 10 67 17 52 55 83 70  8 18 82 84 30 47 46 47]\n",
      " [46 69  2 66 86 60 62 78 80 48 73 87 52 72 22 59 57 48 34 51]\n",
      " [ 2 29 25 53 97 73 42 50 93  4  9 49 94 99  6 44 18 97 46 97]\n",
      " [ 2 63 77 19 10  4 11 26 44 42  1 89 15 73 26 36 77 61 16 48]\n",
      " [60 75 49 37 48 99 63 62 71 43  1 28 12 45 21 62 80 87 49 15]\n",
      " [68 21 33 71 16 75 75 86 97 75  7 30 31 25  5 24 47 52 92 94]\n",
      " [15 41 50 36 81 78 62 43 53 85 73 25 32 41 45 67 24 74 73 19]]\n"
     ]
    }
   ],
   "source": [
    "# números aleatórios\n",
    "\n",
    "import numpy as np\n",
    "\n",
    "#geração de números inteiros\n",
    "#um número inteiro\n",
    "\n",
    "x = np.random.randint(100)\n",
    "#print (x)\n",
    "\n",
    "#array de número inteiro\n",
    "\n",
    "z = np.random.randint(100, size=10)\n",
    "#print (z)\n",
    "\n",
    "zbid = np.random.randint(100, size = (10, 20))\n",
    "print (zbid)\n"
   ]
  },
  {
   "cell_type": "code",
   "execution_count": 19,
   "metadata": {},
   "outputs": [
    {
     "name": "stdout",
     "output_type": "stream",
     "text": [
      "[[0.63730515 0.53670574]\n",
      " [0.22005469 0.37392393]\n",
      " [0.93039776 0.24752866]]\n"
     ]
    }
   ],
   "source": [
    "# geração de floats aleatórios\n",
    "\n",
    "import numpy as np\n",
    "\n",
    "#array unidimensional de floats de 0 a 1\n",
    "\n",
    "a = np.random.rand(5)\n",
    "#print (a)\n",
    "\n",
    "#array bidimensional de floats\n",
    "\n",
    "b = np.random.rand(3, 2)\n",
    "print (b)\n",
    "\n"
   ]
  },
  {
   "cell_type": "code",
   "execution_count": 29,
   "metadata": {},
   "outputs": [
    {
     "name": "stdout",
     "output_type": "stream",
     "text": [
      "[ 0  2  4  6  8 10]\n",
      "4\n"
     ]
    }
   ],
   "source": [
    "# sortear um aleatório de uma lista\n",
    "\n",
    "import numpy as np\n",
    "\n",
    "c = [10, 11, 12, 13]\n",
    "\n",
    "#np.random.choice(c, size = (2,2))\n",
    "\n",
    "#aleatório de uma sequência\n",
    "seq = np.arange(0,11, 2)\n",
    "print (seq)\n",
    "print (np.random.choice(seq))\n",
    "\n"
   ]
  },
  {
   "cell_type": "code",
   "execution_count": 32,
   "metadata": {},
   "outputs": [
    {
     "data": {
      "text/plain": [
       "array([[-0.30733276, -0.58993019,  1.3569865 , -1.06229002,  1.29411519,\n",
       "         0.0949977 , -0.18818642,  0.71036344, -2.41593602, -0.57386154],\n",
       "       [ 0.03557208,  0.87004019,  0.08004117,  1.02896168,  0.22333796,\n",
       "         1.27626025,  1.27361635,  1.52506589,  0.38171393,  0.71058172],\n",
       "       [-1.30798755,  0.35945669, -0.53821221, -0.28180783, -0.72000933,\n",
       "         1.28881398, -1.72688534, -0.44427288, -0.40488205, -0.6313788 ],\n",
       "       [ 0.64530612, -0.9567736 , -1.08351645,  0.85696376, -0.61852716,\n",
       "        -0.88164361, -0.60266483,  1.93806885, -1.64299891,  0.73249302],\n",
       "       [-1.42016438, -0.62042811,  0.79674435,  0.13636055,  1.02866199,\n",
       "        -1.04950855,  0.32014953,  0.02144751, -1.51075661,  0.12519311],\n",
       "       [-0.49878295,  0.28631876,  0.06334256, -0.40257438, -0.55723325,\n",
       "         0.46063529, -0.31026805,  0.10042923,  1.84769657,  0.93527826],\n",
       "       [-0.24414157,  0.61943445, -0.04298065,  0.13892972,  0.78066396,\n",
       "        -1.67387446,  0.27007764, -1.9049691 ,  0.53720267,  0.38985446],\n",
       "       [ 0.02666114,  1.03739618,  1.49580402,  1.65654571,  0.94396933,\n",
       "        -0.2707811 ,  0.62448737, -0.05496867,  1.50961927,  2.24615252],\n",
       "       [-1.44326223,  0.29853509,  0.99116114,  0.80527871, -0.901704  ,\n",
       "         1.17479213, -0.26624839,  0.26651516, -0.33118114,  0.37038643],\n",
       "       [ 0.38054953, -0.37007377, -0.53135464, -0.44314242, -0.22224587,\n",
       "        -0.12224392,  0.78994989,  0.53103773, -0.14183865, -0.78700739]])"
      ]
     },
     "execution_count": 32,
     "metadata": {},
     "output_type": "execute_result"
    }
   ],
   "source": [
    "\n",
    "import numpy as np\n",
    "\n",
    "np.random.normal(0, 1, size=(10, 10))\n"
   ]
  }
 ],
 "metadata": {
  "kernelspec": {
   "display_name": "Python 3",
   "language": "python",
   "name": "python3"
  },
  "language_info": {
   "codemirror_mode": {
    "name": "ipython",
    "version": 3
   },
   "file_extension": ".py",
   "mimetype": "text/x-python",
   "name": "python",
   "nbconvert_exporter": "python",
   "pygments_lexer": "ipython3",
   "version": "3.10.6 (main, Nov 14 2022, 16:10:14) [GCC 11.3.0]"
  },
  "orig_nbformat": 4,
  "vscode": {
   "interpreter": {
    "hash": "916dbcbb3f70747c44a77c7bcd40155683ae19c65e1c03b4aa3499c5328201f1"
   }
  }
 },
 "nbformat": 4,
 "nbformat_minor": 2
}
