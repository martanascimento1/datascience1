{
  "nbformat": 4,
  "nbformat_minor": 0,
  "metadata": {
    "colab": {
      "provenance": [],
      "authorship_tag": "ABX9TyPOautjrUqRKO86L6T87dE4",
      "include_colab_link": true
    },
    "kernelspec": {
      "name": "python3",
      "display_name": "Python 3"
    },
    "language_info": {
      "name": "python"
    }
  },
  "cells": [
    {
      "cell_type": "markdown",
      "metadata": {
        "id": "view-in-github",
        "colab_type": "text"
      },
      "source": [
        "<a href=\"https://colab.research.google.com/github/martanascimento1/datascience1/blob/main/GridSearch.ipynb\" target=\"_parent\"><img src=\"https://colab.research.google.com/assets/colab-badge.svg\" alt=\"Open In Colab\"/></a>"
      ]
    },
    {
      "cell_type": "code",
      "execution_count": 1,
      "metadata": {
        "colab": {
          "base_uri": "https://localhost:8080/"
        },
        "id": "V7GRjaFo-UuU",
        "outputId": "3a5e8f23-fee5-4190-fe98-7d1572b8fc26"
      },
      "outputs": [
        {
          "output_type": "stream",
          "name": "stdout",
          "text": [
            "[0.9666666666666667, 0.9666666666666667, 0.9733333333333334, 0.9733333333333334, 0.98, 0.98, 0.9866666666666667, 0.9866666666666667]\n"
          ]
        }
      ],
      "source": [
        "from sklearn import datasets\n",
        "from sklearn.linear_model import LogisticRegression\n",
        "\n",
        "iris = datasets.load_iris()\n",
        "\n",
        "X = iris['data']\n",
        "y = iris['target']\n",
        "\n",
        "logit = LogisticRegression(max_iter = 10000)\n",
        "\n",
        "C = [0.25, 0.5, 0.75, 1, 1.25, 1.5, 1.75, 2]\n",
        "\n",
        "scores = []\n",
        "\n",
        "for choice in C:\n",
        "  logit.set_params(C=choice)\n",
        "  logit.fit(X, y)\n",
        "  scores.append(logit.score(X, y))\n",
        "\n",
        "print(scores)"
      ]
    },
    {
      "cell_type": "code",
      "source": [
        "import numpy as np\n",
        "import matplotlib.pyplot as plt\n",
        "import pandas as pd\n",
        "\n",
        "from sklearn.linear_model import LogisticRegression\n",
        "from sklearn.tree import DecisionTreeClassifier\n",
        "from sklearn.ensemble import RandomForestClassifier\n",
        "\n",
        "from sklearn.datasets import make_classification"
      ],
      "metadata": {
        "id": "fcl0UiM3_aUb"
      },
      "execution_count": 2,
      "outputs": []
    },
    {
      "cell_type": "code",
      "source": [
        "np.random.seed(1)\n",
        "X, y = make_classification(n_samples=400, n_features=6, n_informative=6,\n",
        "                           n_redundant=0, n_classes=10, class_sep=2)\n",
        "\n",
        "pd.DataFrame(X)\n",
        "print(y[:20])"
      ],
      "metadata": {
        "colab": {
          "base_uri": "https://localhost:8080/"
        },
        "id": "Rz0VH-Ie_pGl",
        "outputId": "3bfb175c-bc71-4e35-adf5-f4975b84261c"
      },
      "execution_count": 3,
      "outputs": [
        {
          "output_type": "stream",
          "name": "stdout",
          "text": [
            "[7 9 8 9 0 8 5 4 1 0 0 6 2 1 3 8 6 0 5 4]\n"
          ]
        }
      ]
    },
    {
      "cell_type": "code",
      "source": [
        "from sklearn.model_selection import GridSearchCV"
      ],
      "metadata": {
        "id": "yQkYZRCh_ufv"
      },
      "execution_count": 4,
      "outputs": []
    },
    {
      "cell_type": "code",
      "source": [
        "param_grid = [\n",
        "    {'C': 10**np.linspace(-3,3,20)}\n",
        "]"
      ],
      "metadata": {
        "id": "DBkuczUD_2T7"
      },
      "execution_count": 5,
      "outputs": []
    },
    {
      "cell_type": "code",
      "source": [
        "lin_reg = LogisticRegression(solver='lbfgs', multi_class='multinomial', max_iter=1000)"
      ],
      "metadata": {
        "id": "bA9JZfBvAFln"
      },
      "execution_count": 6,
      "outputs": []
    },
    {
      "cell_type": "code",
      "source": [
        "from sklearn.model_selection import GridSearchCV\n",
        "from sklearn.datasets import make_classification\n",
        "from sklearn.linear_model import LogisticRegression\n",
        "import numpy as np\n",
        "\n",
        "np.random.seed(1)\n",
        "X, y = make_classification(n_samples=400, n_features=6, n_informative=6,\n",
        "                           n_redundant=0, n_classes=10, class_sep=2)\n",
        "\n",
        "param_grid = [\n",
        "    {'C': 10**np.linspace(-3,3,20)}\n",
        "]\n",
        "\n",
        "lin_reg = LogisticRegression(solver='lbfgs', multi_class='multinomial', max_iter=1000)\n",
        "\n",
        "# Remove the 'iid' parameter\n",
        "lr_gridsearch = GridSearchCV(lin_reg, param_grid, cv=10, scoring='accuracy',\n",
        "                             refit=True)\n",
        "lr_gridsearch.fit(X, y)\n",
        "\n",
        "print(lr_gridsearch.best_score_)\n",
        "print(lr_gridsearch.best_params_)"
      ],
      "metadata": {
        "colab": {
          "base_uri": "https://localhost:8080/"
        },
        "id": "i9nUpKOqANcx",
        "outputId": "6f727916-7e86-48cd-88aa-56d5cc0102c1"
      },
      "execution_count": 8,
      "outputs": [
        {
          "output_type": "stream",
          "name": "stdout",
          "text": [
            "0.625\n",
            "{'C': 6.158482110660261}\n"
          ]
        }
      ]
    },
    {
      "cell_type": "code",
      "source": [
        "lr_model = lr_gridsearch.best_estimator_\n",
        "print('Training Score:', lr_model.score(X, y))"
      ],
      "metadata": {
        "colab": {
          "base_uri": "https://localhost:8080/"
        },
        "id": "CIpwqeRyAmaW",
        "outputId": "acb548f4-f366-45fa-a289-865c2562b0ca"
      },
      "execution_count": 9,
      "outputs": [
        {
          "output_type": "stream",
          "name": "stdout",
          "text": [
            "Training Score: 0.6875\n"
          ]
        }
      ]
    },
    {
      "cell_type": "markdown",
      "source": [
        "Grid Search in Decision Trees:"
      ],
      "metadata": {
        "id": "O_zw0IkYCIo6"
      }
    },
    {
      "cell_type": "code",
      "source": [
        "param_grid = [{\n",
        "    'max_depth': [2, 4, 8, 16, 32, 64],\n",
        "    'min_samples_leaf': [2, 4, 8, 16]\n",
        "}]\n",
        "\n",
        "tree = DecisionTreeClassifier()\n",
        "\n",
        "np.random.seed(1)\n",
        "# Removed the 'iid' parameter as it is no longer supported\n",
        "dt_gridsearch = GridSearchCV(tree, param_grid, cv=10, scoring='accuracy',\n",
        "                             refit=True)\n",
        "dt_gridsearch.fit(X, y)\n",
        "\n",
        "print(dt_gridsearch.best_score_)\n",
        "print(dt_gridsearch.best_params_)"
      ],
      "metadata": {
        "colab": {
          "base_uri": "https://localhost:8080/"
        },
        "id": "6KarBergCJ_U",
        "outputId": "b3a2f7fc-c708-487e-a710-8dad7052fb9f"
      },
      "execution_count": 12,
      "outputs": [
        {
          "output_type": "stream",
          "name": "stdout",
          "text": [
            "0.6950000000000001\n",
            "{'max_depth': 32, 'min_samples_leaf': 8}\n"
          ]
        }
      ]
    },
    {
      "cell_type": "code",
      "source": [
        "dt_model = dt_gridsearch.best_estimator_\n",
        "print('Training Score:', dt_model.score(X, y))"
      ],
      "metadata": {
        "colab": {
          "base_uri": "https://localhost:8080/"
        },
        "id": "rCVwzk56CU9v",
        "outputId": "2e3a896f-782b-4970-d464-d835002e1ca6"
      },
      "execution_count": 13,
      "outputs": [
        {
          "output_type": "stream",
          "name": "stdout",
          "text": [
            "Training Score: 0.8225\n"
          ]
        }
      ]
    }
  ]
}