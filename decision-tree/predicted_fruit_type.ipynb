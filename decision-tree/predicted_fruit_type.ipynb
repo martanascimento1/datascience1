{
  "cells": [
    {
      "cell_type": "markdown",
      "metadata": {
        "colab_type": "text",
        "id": "view-in-github"
      },
      "source": [
        "<a href=\"https://colab.research.google.com/github/martanascimento1/datascience1/blob/main/predicted_fruit_type.ipynb\" target=\"_parent\"><img src=\"https://colab.research.google.com/assets/colab-badge.svg\" alt=\"Open In Colab\"/></a>"
      ]
    },
    {
      "cell_type": "code",
      "execution_count": 4,
      "metadata": {
        "colab": {
          "base_uri": "https://localhost:8080/"
        },
        "id": "HpmVK_JkhADW",
        "outputId": "090ce34c-300e-4697-972c-24783aaa7c97"
      },
      "outputs": [
        {
          "name": "stdout",
          "output_type": "stream",
          "text": [
            "Predicted fruit type: apple\n"
          ]
        }
      ],
      "source": [
        "from sklearn.tree import DecisionTreeClassifier\n",
        "from sklearn.preprocessing import LabelEncoder\n",
        "\n",
        "# Define the features and target variable\n",
        "features = [\n",
        "    [\"red\", \"large\"],\n",
        "    [\"green\", \"small\"],\n",
        "    [\"red\", \"small\"],\n",
        "    [\"yellow\", \"large\"],\n",
        "    [\"green\", \"large\"],\n",
        "    [\"orange\", \"large\"],\n",
        "]\n",
        "target_variable = [\"apple\", \"lime\", \"strawberry\", \"banana\", \"grape\", \"orange\"]\n",
        "\n",
        "# Flatten the features list for encoding\n",
        "flattened_features = [item for sublist in features for item in sublist]\n",
        "\n",
        "# Use a single LabelEncoder for all features and target variable\n",
        "le = LabelEncoder()\n",
        "le.fit(flattened_features + target_variable)\n",
        "\n",
        "# Encode features and target variable\n",
        "encoded_features = [le.transform(item) for item in features]\n",
        "encoded_target = le.transform(target_variable)\n",
        "\n",
        "# Create a CART classifier\n",
        "clf = DecisionTreeClassifier()\n",
        "\n",
        "# Train the classifier on the training set\n",
        "clf.fit(encoded_features, encoded_target)\n",
        "\n",
        "# Predict the fruit type for a new instance\n",
        "new_instance = [\"red\", \"large\"]\n",
        "encoded_new_instance = le.transform(new_instance)\n",
        "predicted_fruit_type = clf.predict([encoded_new_instance])\n",
        "decoded_predicted_fruit_type = le.inverse_transform(predicted_fruit_type)\n",
        "print(\"Predicted fruit type:\", decoded_predicted_fruit_type[0])\n"
      ]
    }
  ],
  "metadata": {
    "colab": {
      "authorship_tag": "ABX9TyMW/3dL69i4UGFtnc9tTqlv",
      "include_colab_link": true,
      "provenance": []
    },
    "kernelspec": {
      "display_name": "Python 3",
      "name": "python3"
    },
    "language_info": {
      "codemirror_mode": {
        "name": "ipython",
        "version": 3
      },
      "file_extension": ".py",
      "mimetype": "text/x-python",
      "name": "python",
      "nbconvert_exporter": "python",
      "pygments_lexer": "ipython3",
      "version": "3.12.3"
    }
  },
  "nbformat": 4,
  "nbformat_minor": 0
}
