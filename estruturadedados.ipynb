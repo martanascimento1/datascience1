{
 "cells": [
  {
   "cell_type": "code",
   "execution_count": null,
   "metadata": {},
   "outputs": [],
   "source": [
    "#listas\n",
    "\n",
    "bilheteria = [ 320, 320, 400, 410, 420, 600, 680]\n",
    "#print(bilheteria)\n",
    "type (bilheteria)\n",
    "days = ['seg', 'ter', 'quar', 'quin', 'sex', 'sab', 'dom']\n",
    "#print (days)"
   ]
  },
  {
   "cell_type": "code",
   "execution_count": null,
   "metadata": {},
   "outputs": [],
   "source": [
    "#acesso aos dados de uma lista\n",
    "\n",
    "#bilheteria [0]       #acessa o elemento 1\n",
    "#bilheteria [-1]      # acesso ao último elemento através de índice negativo\n",
    "#bilheteria [0:5]     #acesso aos elementos de 0 a 5\n",
    "#bilheteria[5:]       #acesso aos dois ultimos elementos usando omissão de índices\n",
    "\n"
   ]
  },
  {
   "cell_type": "code",
   "execution_count": null,
   "metadata": {},
   "outputs": [],
   "source": [
    "#operações\n",
    "media_fds = (bilheteria[5] + bilheteria[6]) /2\n",
    "print (media_fds)"
   ]
  },
  {
   "cell_type": "code",
   "execution_count": null,
   "metadata": {},
   "outputs": [],
   "source": [
    "#modificação de um elemento de uma lista\n",
    "#bilheteria[0] = 340\n",
    "#print(bilheteria)\n",
    "\n",
    "#voltando ao valor original\n",
    "\n",
    "bilheteria[0] = 320\n",
    "print(bilheteria)\n",
    "print(days)\n"
   ]
  },
  {
   "cell_type": "code",
   "execution_count": null,
   "metadata": {},
   "outputs": [],
   "source": [
    "#cópia de uma lista (\"forma errada\")\n",
    "#lista_copy = bilheteria\n",
    "#print (lista_copy)\n",
    "\n",
    "bilheteria[0] = 340 \n",
    "print (bilheteria)\n",
    "print (lista_copy)\n",
    "print (days)"
   ]
  },
  {
   "cell_type": "code",
   "execution_count": null,
   "metadata": {},
   "outputs": [],
   "source": [
    "# cópia de uma lista da forma correta\n",
    "bilheteria[0] = 320\n",
    "lista_copy = bilheteria.copy()\n",
    "#print (lista_copy)\n",
    "\n",
    "bilheteria[0] = 340 \n",
    "print (bilheteria)\n",
    "print (lista_copy)"
   ]
  },
  {
   "cell_type": "code",
   "execution_count": 43,
   "metadata": {},
   "outputs": [
    {
     "name": "stdout",
     "output_type": "stream",
     "text": [
      "[]\n",
      "['seg', 'ter', 'quar', 'quin', 'sex', 'sab', 'dom']\n"
     ]
    }
   ],
   "source": [
    "#métodos para listas\n",
    "#a = [2, 4, 6, 8]\n",
    "\n",
    "#método append\n",
    "#a.append(10)\n",
    "#print (a)\n",
    "#print (days)\n",
    "\n",
    "#método extend\n",
    "#a.extend([10, 10, 10])\n",
    "#print (a)\n",
    "#print (days)\n",
    "\n",
    "#método count\n",
    "#a.count(10)\n",
    "\n",
    "#método index\n",
    "#a.index(10)\n",
    "\n",
    "#método insert\n",
    "#a.insert(2, 5)\n",
    "#print(a)\n",
    "#print (days)\n",
    "\n",
    "#método pop\n",
    "#a.pop(4)\n",
    "#print (a)\n",
    "#print (days)\n",
    "\n",
    "#método remove\n",
    "#a.remove(10)\n",
    "#print (a)\n",
    "#print (days)\n",
    "\n",
    "#método sort\n",
    "#a.sort()\n",
    "#print (a)\n",
    "#print (days)\n",
    "\n",
    "#método reverse\n",
    "#a.reverse()\n",
    "#print (a)\n",
    "#print (days)\n",
    "\n",
    "#método clear\n",
    "#a.clear()\n",
    "#print (a)\n",
    "\n",
    "\n",
    "\n"
   ]
  },
  {
   "cell_type": "code",
   "execution_count": 45,
   "metadata": {},
   "outputs": [
    {
     "name": "stdout",
     "output_type": "stream",
     "text": [
      "[1, 2, 3, 5, 4, 5]\n",
      "['seg', 'ter', 'quar', 'quin', 'sex', 'sab', 'dom']\n"
     ]
    }
   ],
   "source": [
    "#concatenação de listas\n",
    "\n",
    "a = [1, 2, 3] \n",
    "b = [5, 4, 5]\n",
    "c = a + b \n",
    "print (c)\n"
   ]
  },
  {
   "attachments": {},
   "cell_type": "markdown",
   "metadata": {},
   "source": [
    "Tuplas (é uma estrutura de dados imutável)"
   ]
  },
  {
   "cell_type": "code",
   "execution_count": 49,
   "metadata": {},
   "outputs": [
    {
     "data": {
      "text/plain": [
       "'morango'"
      ]
     },
     "execution_count": 49,
     "metadata": {},
     "output_type": "execute_result"
    }
   ],
   "source": [
    "frutas = ('morango', 'melancia', 'manga')\n",
    "#print (type(frutas))\n",
    "#print (frutas)\n",
    "\n",
    "#acesso aos elementos de uma tupla\n",
    "frutas [0]\n",
    "\n",
    "#tentando modificar elemento de uma tupla\n"
   ]
  },
  {
   "attachments": {},
   "cell_type": "markdown",
   "metadata": {},
   "source": [
    "CONJUNTOS"
   ]
  },
  {
   "cell_type": "code",
   "execution_count": 52,
   "metadata": {},
   "outputs": [
    {
     "data": {
      "text/plain": [
       "{2, 3}"
      ]
     },
     "execution_count": 52,
     "metadata": {},
     "output_type": "execute_result"
    }
   ],
   "source": [
    "A = {1, 2, 3}\n",
    "B = {4, 3, 2}\n",
    "#print (A)\n",
    "#print (B)\n",
    "\n",
    "A.union(B)\n",
    "A.intersection(B)\n"
   ]
  },
  {
   "attachments": {},
   "cell_type": "markdown",
   "metadata": {},
   "source": [
    "Dicionários"
   ]
  },
  {
   "cell_type": "code",
   "execution_count": 55,
   "metadata": {},
   "outputs": [
    {
     "name": "stdout",
     "output_type": "stream",
     "text": [
      "{'Nome': 'Star wars', 'Ano': 1999, 'diretor': 'george lucas'}\n",
      "1999\n",
      "{'Nome': 'Star wars', 'Ano': 1999, 'diretor': 'george lucas', 'atores': ['ewan gregor', 'natalye']}\n"
     ]
    }
   ],
   "source": [
    "filme = {'Nome': 'Star wars', 'Ano': 1999, 'diretor': 'george lucas'}\n",
    "print (filme)\n",
    "print (filme ['Ano'])\n",
    "filme ['atores'] = ['ewan gregor', 'natalye mcgregror']\n",
    "print (filme)"
   ]
  }
 ],
 "metadata": {
  "kernelspec": {
   "display_name": "Python 3",
   "language": "python",
   "name": "python3"
  },
  "language_info": {
   "codemirror_mode": {
    "name": "ipython",
    "version": 3
   },
   "file_extension": ".py",
   "mimetype": "text/x-python",
   "name": "python",
   "nbconvert_exporter": "python",
   "pygments_lexer": "ipython3",
   "version": "3.10.6 (main, Nov 14 2022, 16:10:14) [GCC 11.3.0]"
  },
  "orig_nbformat": 4,
  "vscode": {
   "interpreter": {
    "hash": "916dbcbb3f70747c44a77c7bcd40155683ae19c65e1c03b4aa3499c5328201f1"
   }
  }
 },
 "nbformat": 4,
 "nbformat_minor": 2
}
