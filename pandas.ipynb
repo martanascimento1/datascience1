{
 "cells": [
  {
   "cell_type": "code",
   "execution_count": null,
   "metadata": {},
   "outputs": [],
   "source": [
    "import pandas as pd #biblioteca de análise de dados do python\n",
    "\n",
    "#série do pandas\n",
    "\n",
    "bilheteria = [320, 320, 400, 410, 420, 600, 600]\n",
    "\n",
    "days = ['seg', 'ter','quar', 'quin', 'sex', 'sab', 'dom']\n",
    "\n",
    "bilheteriaserie = pd.Series(bilheteria, index = days)\n",
    "#print (bilheteriaserie)\n",
    "#print(bilheteriaserie['qua'])\n",
    "bilheteriaserie.mean() #média das bilheterias\n"
   ]
  },
  {
   "cell_type": "code",
   "execution_count": null,
   "metadata": {},
   "outputs": [],
   "source": [
    "import pandas as pd\n",
    "\n",
    "# Data frame\n",
    "x = {'idade':[22, 23, 22, 21], 'sexo':['M', 'M', 'F', 'F']}\n",
    "df = pd.DataFrame(x)\n",
    "df['idade'].mean()     #acessar a média"
   ]
  },
  {
   "cell_type": "code",
   "execution_count": null,
   "metadata": {},
   "outputs": [],
   "source": [
    "import pandas as pd\n",
    "import os\n",
    "import matplotlib.pyplot as plt\n",
    "\n",
    "\n",
    "\n",
    "# Carregando arquivo de Excel\n",
    "\n",
    "#os.getcwd()\n",
    "#os.chdir('/home/marta/Downloads/data')\n",
    "#os.getcwd()\n",
    "#df_excel = pd.read_csv(\"http://data.insideairbnb.com/brazil/rj/rio-de-janeiro/2019-07-15/visualisations/listings.csv\")\n",
    "#df_excel \n"
   ]
  },
  {
   "cell_type": "code",
   "execution_count": null,
   "metadata": {},
   "outputs": [],
   "source": [
    "import pandas as pd\n",
    "\n",
    "# Carregando arquivo de texto .csv\n",
    "\n",
    "#os.getcwd()\n",
    "#os.chdir('/home/marta/Downloads/data')\n",
    "#os.getcwd()\n",
    "df_csv = pd.read_csv('data1.csv', sep= ';')\n",
    "df_csv\n"
   ]
  },
  {
   "cell_type": "code",
   "execution_count": null,
   "metadata": {},
   "outputs": [],
   "source": [
    "import pandas as pd \n",
    "\n",
    "# Carregando arquivo  JSON\n",
    "\n",
    "#os.getcwd()\n",
    "#os.chdir('/home/marta/Downloads/data')\n",
    "#os.getcwd()\n",
    "df_json = pd.read_json('data1.json')\n",
    "df_json\n",
    "\n",
    "\n"
   ]
  },
  {
   "cell_type": "code",
   "execution_count": null,
   "metadata": {},
   "outputs": [],
   "source": [
    "#exemplo que peguei de outro projeto:\n",
    "\n",
    "df = pd.read_csv(\"http://dl.dropboxusercontent.com/s/xn2a4kzf0zer0xu/acquisition_train.csv?dl=0\")\n",
    "df"
   ]
  }
 ],
 "metadata": {
  "kernelspec": {
   "display_name": "Python 3",
   "language": "python",
   "name": "python3"
  },
  "language_info": {
   "codemirror_mode": {
    "name": "ipython",
    "version": 3
   },
   "file_extension": ".py",
   "mimetype": "text/x-python",
   "name": "python",
   "nbconvert_exporter": "python",
   "pygments_lexer": "ipython3",
   "version": "3.10.6"
  },
  "orig_nbformat": 4,
  "vscode": {
   "interpreter": {
    "hash": "916dbcbb3f70747c44a77c7bcd40155683ae19c65e1c03b4aa3499c5328201f1"
   }
  }
 },
 "nbformat": 4,
 "nbformat_minor": 2
}
