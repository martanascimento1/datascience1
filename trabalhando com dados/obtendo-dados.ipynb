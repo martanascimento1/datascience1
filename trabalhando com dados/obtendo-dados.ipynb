{
 "cells": [
  {
   "cell_type": "code",
   "execution_count": null,
   "metadata": {},
   "outputs": [],
   "source": [
    "file_for_reading = open('/home/marta/datascience/data/data1/dados.diversos/Trump_tweets-sample.txt', 'r')"
   ]
  },
  {
   "attachments": {},
   "cell_type": "markdown",
   "metadata": {},
   "source": [
    "Imprimir os tweetes que possuem \"#\""
   ]
  },
  {
   "cell_type": "code",
   "execution_count": null,
   "metadata": {},
   "outputs": [],
   "source": [
    "for line in file_for_reading:\n",
    "    if '#' in line:\n",
    "        print(line)"
   ]
  },
  {
   "attachments": {},
   "cell_type": "markdown",
   "metadata": {},
   "source": [
    "Operação \"Close\", com ela é possível fechar o arquivo."
   ]
  },
  {
   "cell_type": "code",
   "execution_count": null,
   "metadata": {},
   "outputs": [],
   "source": [
    "file_for_reading.close()"
   ]
  },
  {
   "cell_type": "code",
   "execution_count": null,
   "metadata": {},
   "outputs": [],
   "source": [
    "file_for_appending = open ('/home/marta/datascience/data/data1/dados.diversos/Trump_tweets-sample.txt', 'a')\n",
    "file_for_appending.write ('Aparentemente não... :(\\n')\n",
    "\n",
    "file_for_appending.close()"
   ]
  },
  {
   "cell_type": "code",
   "execution_count": null,
   "metadata": {},
   "outputs": [],
   "source": [
    "with open ('/home/marta/datascience/data/data1/dados.diversos/My_tweets_are_better.txt', 'r') as f:\n",
    "    for line in f:\n",
    "        print(line)\n",
    "        "
   ]
  },
  {
   "cell_type": "code",
   "execution_count": null,
   "metadata": {},
   "outputs": [],
   "source": [
    "import re\n",
    "\n",
    "starts_with_rash = 0\n",
    "with open ('/home/marta/datascience/data/data1/dados.diversos/Trump_tweets-sample.txt', 'r') as f:\n",
    "    for line in f:\n",
    "        if re.match(\"^#\", line):\n",
    "            print(line)\n",
    "            starts_with_rash +=1\n",
    "print('número de posts do Trump que iniciam com #:',starts_with_rash)"
   ]
  },
  {
   "attachments": {},
   "cell_type": "markdown",
   "metadata": {},
   "source": [
    " contar a ocorrência de cada hashtag"
   ]
  },
  {
   "cell_type": "code",
   "execution_count": null,
   "metadata": {},
   "outputs": [],
   "source": [
    "from collections import Counter\n",
    "\n",
    "def get_hashtags (tweet):\n",
    "    words = tweet.split ()\n",
    "    return[word.strip(\",\") for word in words if '#' in word]\n",
    "\n",
    "hashtag_counts = Counter()\n",
    "with open ('/home/marta/datascience/data/data1/dados.diversos/Trump_tweets-sample.txt', 'r') as f:\n",
    "    for line in f:\n",
    "        if \"#\" in line:\n",
    "            hashtag_counts.update(get_hashtags(line.strip()))\n",
    "for hashtag, count in hashtag_counts.most_common(5):\n",
    "    print(hashtag, count)"
   ]
  },
  {
   "cell_type": "code",
   "execution_count": null,
   "metadata": {},
   "outputs": [],
   "source": [
    "with open ('/home/marta/datascience/data/data1/dados.diversos/prices.csv') as f:\n",
    "    for i in range (10):\n",
    "        line = f.readline()\n",
    "        print (line)\n"
   ]
  },
  {
   "cell_type": "code",
   "execution_count": null,
   "metadata": {},
   "outputs": [],
   "source": [
    "import pandas as pd\n",
    "df = pd.read_csv ('/home/marta/datascience/data/data1/dados.diversos/prices.csv')\n",
    "df "
   ]
  },
  {
   "cell_type": "code",
   "execution_count": null,
   "metadata": {},
   "outputs": [],
   "source": [
    "import csv\n",
    "\n",
    "richCompanies = dict()\n",
    "with open ('/home/marta/datascience/data/data1/dados.diversos/prices.csv', 'r') as f:\n",
    "    reader = csv.DictReader(f, delimiter=',')\n",
    "    for row in reader:\n",
    "        symbol = row [\"symbol\"]\n",
    "        date = row [\"date\"]\n",
    "        closing_price = float (row[\"close\"]) #pegar o preço de fechamento da bolsa\n",
    "        if closing_price > 400:\n",
    "            richCompanies[symbol] = closing_price\n",
    "            print (date, symbol, closing_price)"
   ]
  }
 ],
 "metadata": {
  "kernelspec": {
   "display_name": "Python 3",
   "language": "python",
   "name": "python3"
  },
  "language_info": {
   "codemirror_mode": {
    "name": "ipython",
    "version": 3
   },
   "file_extension": ".py",
   "mimetype": "text/x-python",
   "name": "python",
   "nbconvert_exporter": "python",
   "pygments_lexer": "ipython3",
   "version": "3.10.6"
  },
  "orig_nbformat": 4,
  "vscode": {
   "interpreter": {
    "hash": "916dbcbb3f70747c44a77c7bcd40155683ae19c65e1c03b4aa3499c5328201f1"
   }
  }
 },
 "nbformat": 4,
 "nbformat_minor": 2
}
