{
 "cells": [
  {
   "cell_type": "code",
   "execution_count": null,
   "metadata": {},
   "outputs": [
    {
     "ename": "",
     "evalue": "",
     "output_type": "error",
     "traceback": [
      "\u001b[1;31mFailed to start the Kernel. \n",
      "\u001b[1;31mView Jupyter <a href='command:jupyter.viewOutput'>log</a> for further details."
     ]
    }
   ],
   "source": [
    "import sys, re\n",
    "regex = sys.argv[1]\n",
    "\n",
    "\n",
    "for line in sys.stdin:\n",
    "  \n",
    "    if re.search(regex, line):\n",
    "        sys.stdout.write(line)"
   ]
  }
 ],
 "metadata": {
  "kernelspec": {
   "display_name": "Python 3 (ipykernel)",
   "language": "python",
   "name": "python3"
  },
  "orig_nbformat": 4,
  "vscode": {
   "interpreter": {
    "hash": "aec7dce2846ecf17c483f921b2652d608b8c916a25647836fd7e7be29ab67bb2"
   }
  }
 },
 "nbformat": 4,
 "nbformat_minor": 2
}
