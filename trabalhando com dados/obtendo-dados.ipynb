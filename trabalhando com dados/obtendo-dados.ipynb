{
 "cells": [
  {
   "cell_type": "code",
   "execution_count": 18,
   "metadata": {},
   "outputs": [],
   "source": [
    "file_for_reading = open('/home/marta/datascience/data/data1/Trump_tweets-sample.txt', 'r')\n"
   ]
  },
  {
   "attachments": {},
   "cell_type": "markdown",
   "metadata": {},
   "source": [
    "Imprimir os tweetes que possuem \"#\""
   ]
  },
  {
   "cell_type": "code",
   "execution_count": 19,
   "metadata": {},
   "outputs": [
    {
     "name": "stdout",
     "output_type": "stream",
     "text": [
      "Today we express our deepest gratitude to all those who have served in our armed forces. #ThankAVet https://t.co/wPk7QWpK8Z,,\n",
      "\n",
      "#ElectionNight #MAGA_��_��� https://t.co/HfuJeRZbod\",,\n",
      "\n",
      "RT @IvankaTrump: Such a surreal moment to vote for my father for President of the United States! Make your voice heard and vote! #Election2��_,,\n",
      "\n",
      "RT @EricTrump: Join my family in this incredible movement to #MakeAmericaGreatAgain!! Now it is up to you! Please #VOTE for America! https:��_,,\n",
      "\n",
      "RT @DonaldJTrumpJr: FINAL PUSH! Eric and I doing dozens of radio interviews. We can win this thing! GET OUT AND VOTE! #MAGA #ElectionDay ht��_,,\n",
      "\n",
      "\"Still time to #VoteTrump! \n",
      "\n",
      "#iVoted #ElectionNight https://t.co/UZtYAY1Ba6\",,\n",
      "\n",
      "#ElectionDay https://t.co/MXrAxYnTjY https://t.co/FZhOncih21,,\n",
      "\n",
      "#NH #NewHampshire #MAGA https://t.co/JDgcyJvJpk\",,\n",
      "\n",
      "LIVE on #Periscope: Join me for a few minutes in Pennsylvania. Get out &amp; VOTE tomorrow. LETS #MAGA!! https://t.co/Ej0LmMK3YU,,\n",
      "\n",
      "Just landed in North Carolina- heading to the J.S. Dorton Arena. See you all soon! Lets #MakeAmericaGreatAgain! https://t.co/EUo0keWX1Y,,\n",
      "\n",
      "\"Starting tomorrow its going to be #AmericaFirst! Thank you for a great morning Sarasota, Florida!\n",
      "\n",
      "Thank you for you support Virginia! In ONE DAY - get out and #VoteTrumpPence16! #ICYMI: https://t.co/Nid8qcFTwY https://t.co/WOsEcjM8sm,,\n",
      "\n",
      "Thank you Pennsylvania- I am forever grateful for your amazing support. Lets MAKE AMERICA GREAT AGAIN! #MAGA��_ https://t.co/qbcJZAzw6z,,\n",
      "\n",
      "Thank you Michigan! This is a MOVEMENT that will never be seen again- its our last chance to #DrainTheSwamp! Watch��_ https://t.co/cSdGkCFYRL,,\n",
      "\n",
      "\"Thank you Minnesota! It is time to #DrainTheSwamp &amp; #MAGA! \n",
      "\n",
      "#ICYMI- watch: https://t.co/fVThC7yIL6 https://t.co/e8SaXiJrxj\",,\n",
      "\n",
      "\"Thank you Iowa - Get out &amp; #VoteTrumpPence16! \n",
      "\n",
      "#ICYMI watch rally here:��_ https://t.co/LbvNHo6T2k\",,\n",
      "\n",
      "\"RT @DanScavino: Join @realDonaldTrump LIVE in Denver, Colorado via his #Facebook page- we are here!!\n",
      "\n",
      "#MakeAmericaGreatAgain_��_���  \n",
      "\n",
      "NOTHING will stop us in our quest to MAKE AMERICA SAFE AND GREAT AGAIN! #AmericaFirst��_ https://t.co/A4eeHoCbGS\",,\n",
      "\n",
      "\"#DrainTheSwamp!\n",
      "\n",
      "Watch Coach Mike Ditka- a great guy and supporter tonight at 8pmE on #WattersWorld with @jessebwatters @FoxNews.,,\n",
      "\n",
      "\"Thank you for the incredible support this morning Tampa, Florida! #ICYMI- watch here: https://t.co/q43kHf7MoE https://t.co/1GscFNaV4L\",,\n",
      "\n",
      "\"Thank you Hershey, Pennsylvania. Get out &amp; VOTE on November 8th &amp; we will #MAGA! #RallyForRiley \n",
      "\n",
      "#ICYMI, watch here��_ https://t.co/maWukVBTr8\",,\n",
      "\n",
      "#MakeAmericaGreatAgain \n",
      "\n"
     ]
    }
   ],
   "source": [
    "for line in file_for_reading:\n",
    "    if '#' in line:\n",
    "        print(line)"
   ]
  },
  {
   "attachments": {},
   "cell_type": "markdown",
   "metadata": {},
   "source": [
    "Operação \"Close\", com ela é possível fechar o arquivo."
   ]
  },
  {
   "cell_type": "code",
   "execution_count": null,
   "metadata": {},
   "outputs": [],
   "source": [
    "file_for_reading.close()"
   ]
  },
  {
   "cell_type": "code",
   "execution_count": null,
   "metadata": {},
   "outputs": [],
   "source": [
    "file_for_appending = open ('/home/marta/datascience/data/data1/Trump_tweets-sample.txt', 'a')\n",
    "file_for_appending.write ('Aparentemente não... :(\\n')\n",
    "\n",
    "file_for_appending.close()"
   ]
  },
  {
   "cell_type": "code",
   "execution_count": null,
   "metadata": {},
   "outputs": [],
   "source": [
    "with open ('/home/marta/datascience/data/data1/My_tweets_are_better.txt', 'r') as f:\n",
    "    for line in f:\n",
    "        print(line)\n",
    "       "
   ]
  },
  {
   "cell_type": "code",
   "execution_count": 20,
   "metadata": {},
   "outputs": [
    {
     "name": "stdout",
     "output_type": "stream",
     "text": [
      "#ElectionNight #MAGA_��_��� https://t.co/HfuJeRZbod\",,\n",
      "\n",
      "#iVoted #ElectionNight https://t.co/UZtYAY1Ba6\",,\n",
      "\n",
      "#ElectionDay https://t.co/MXrAxYnTjY https://t.co/FZhOncih21,,\n",
      "\n",
      "#NH #NewHampshire #MAGA https://t.co/JDgcyJvJpk\",,\n",
      "\n",
      "#ICYMI- watch: https://t.co/fVThC7yIL6 https://t.co/e8SaXiJrxj\",,\n",
      "\n",
      "#ICYMI watch rally here:��_ https://t.co/LbvNHo6T2k\",,\n",
      "\n",
      "#MakeAmericaGreatAgain_��_���  \n",
      "\n",
      "#ICYMI, watch here��_ https://t.co/maWukVBTr8\",,\n",
      "\n",
      "#MakeAmericaGreatAgain \n",
      "\n",
      "número de posts do Trump que iniciam com #: 9\n"
     ]
    }
   ],
   "source": [
    "import re\n",
    "\n",
    "starts_with_rash = 0\n",
    "with open ('/home/marta/datascience/data/data1/Trump_tweets-sample.txt', 'r') as f:\n",
    "    for line in f:\n",
    "        if re.match(\"^#\", line):\n",
    "            print(line)\n",
    "            starts_with_rash +=1\n",
    "print('número de posts do Trump que iniciam com #:',starts_with_rash)"
   ]
  },
  {
   "attachments": {},
   "cell_type": "markdown",
   "metadata": {},
   "source": [
    " contar a ocorrência de cada hashtag"
   ]
  },
  {
   "cell_type": "code",
   "execution_count": 21,
   "metadata": {},
   "outputs": [
    {
     "name": "stdout",
     "output_type": "stream",
     "text": [
      "#ElectionNight 2\n",
      "#MAGA 2\n",
      "#ElectionDay 2\n",
      "#VoteTrumpPence16! 2\n",
      "#MAGA! 2\n"
     ]
    }
   ],
   "source": [
    "from collections import Counter\n",
    "\n",
    "def get_hashtags (tweet):\n",
    "    words = tweet.split ()\n",
    "    return[word.strip(\",\") for word in words if '#' in word]\n",
    "\n",
    "hashtag_counts = Counter()\n",
    "with open ('/home/marta/datascience/data/data1/Trump_tweets-sample.txt', 'r') as f:\n",
    "    for line in f:\n",
    "        if \"#\" in line:\n",
    "            hashtag_counts.update(get_hashtags(line.strip()))\n",
    "for hashtag, count in hashtag_counts.most_common(5):\n",
    "    print(hashtag, count)"
   ]
  },
  {
   "cell_type": "code",
   "execution_count": 22,
   "metadata": {},
   "outputs": [
    {
     "name": "stdout",
     "output_type": "stream",
     "text": [
      "symbol,date,open,high,low,close,volume,adj_close\n",
      "\n",
      "FAX,2016-12-30,4.65,4.70,4.61,4.63,3498900,4.63\n",
      "\n",
      "IAF,2016-12-30,5.44,5.48,5.40,5.42,103500,5.42\n",
      "\n",
      "FCO,2016-12-30,7.91,8.01,7.91,7.96,64800,7.96\n",
      "\n",
      "ISL,2016-12-30,16.08,16.08,16.059999,16.07,2400,16.07\n",
      "\n",
      "IF,2016-12-30,6.38,6.38,6.31,6.36,19100,6.36\n",
      "\n",
      "CH,2016-12-30,6.07,6.07,5.96,5.96,28500,5.96\n",
      "\n",
      "ACU,2016-12-30,26.540001,26.66,25.35,25.57,9300,25.57\n",
      "\n",
      "XXII,2016-12-30,1.12,1.13,1.05,1.09,895400,1.09\n",
      "\n",
      "AIII,2016-12-30,1.10,1.13,1.09,1.11,25200,1.11\n",
      "\n"
     ]
    }
   ],
   "source": [
    "with open ('/home/marta/datascience/data/data1/prices.csv') as f:\n",
    "    for i in range (10):\n",
    "        line = f.readline()\n",
    "        print (line)"
   ]
  },
  {
   "cell_type": "code",
   "execution_count": 23,
   "metadata": {},
   "outputs": [
    {
     "data": {
      "text/html": [
       "<div>\n",
       "<style scoped>\n",
       "    .dataframe tbody tr th:only-of-type {\n",
       "        vertical-align: middle;\n",
       "    }\n",
       "\n",
       "    .dataframe tbody tr th {\n",
       "        vertical-align: top;\n",
       "    }\n",
       "\n",
       "    .dataframe thead th {\n",
       "        text-align: right;\n",
       "    }\n",
       "</style>\n",
       "<table border=\"1\" class=\"dataframe\">\n",
       "  <thead>\n",
       "    <tr style=\"text-align: right;\">\n",
       "      <th></th>\n",
       "      <th>symbol</th>\n",
       "      <th>date</th>\n",
       "      <th>open</th>\n",
       "      <th>high</th>\n",
       "      <th>low</th>\n",
       "      <th>close</th>\n",
       "      <th>volume</th>\n",
       "      <th>adj_close</th>\n",
       "    </tr>\n",
       "  </thead>\n",
       "  <tbody>\n",
       "    <tr>\n",
       "      <th>0</th>\n",
       "      <td>FAX</td>\n",
       "      <td>2016-12-30</td>\n",
       "      <td>4.65</td>\n",
       "      <td>4.700000</td>\n",
       "      <td>4.610000</td>\n",
       "      <td>4.63</td>\n",
       "      <td>3498900</td>\n",
       "      <td>4.63</td>\n",
       "    </tr>\n",
       "    <tr>\n",
       "      <th>1</th>\n",
       "      <td>IAF</td>\n",
       "      <td>2016-12-30</td>\n",
       "      <td>5.44</td>\n",
       "      <td>5.480000</td>\n",
       "      <td>5.400000</td>\n",
       "      <td>5.42</td>\n",
       "      <td>103500</td>\n",
       "      <td>5.42</td>\n",
       "    </tr>\n",
       "    <tr>\n",
       "      <th>2</th>\n",
       "      <td>FCO</td>\n",
       "      <td>2016-12-30</td>\n",
       "      <td>7.91</td>\n",
       "      <td>8.010000</td>\n",
       "      <td>7.910000</td>\n",
       "      <td>7.96</td>\n",
       "      <td>64800</td>\n",
       "      <td>7.96</td>\n",
       "    </tr>\n",
       "    <tr>\n",
       "      <th>3</th>\n",
       "      <td>ISL</td>\n",
       "      <td>2016-12-30</td>\n",
       "      <td>16.08</td>\n",
       "      <td>16.080000</td>\n",
       "      <td>16.059999</td>\n",
       "      <td>16.07</td>\n",
       "      <td>2400</td>\n",
       "      <td>16.07</td>\n",
       "    </tr>\n",
       "    <tr>\n",
       "      <th>4</th>\n",
       "      <td>IF</td>\n",
       "      <td>2016-12-30</td>\n",
       "      <td>6.38</td>\n",
       "      <td>6.380000</td>\n",
       "      <td>6.310000</td>\n",
       "      <td>6.36</td>\n",
       "      <td>19100</td>\n",
       "      <td>6.36</td>\n",
       "    </tr>\n",
       "    <tr>\n",
       "      <th>...</th>\n",
       "      <td>...</td>\n",
       "      <td>...</td>\n",
       "      <td>...</td>\n",
       "      <td>...</td>\n",
       "      <td>...</td>\n",
       "      <td>...</td>\n",
       "      <td>...</td>\n",
       "      <td>...</td>\n",
       "    </tr>\n",
       "    <tr>\n",
       "      <th>5998</th>\n",
       "      <td>ZSAN</td>\n",
       "      <td>2016-12-30</td>\n",
       "      <td>0.77</td>\n",
       "      <td>0.810000</td>\n",
       "      <td>0.770000</td>\n",
       "      <td>0.78</td>\n",
       "      <td>50900</td>\n",
       "      <td>0.78</td>\n",
       "    </tr>\n",
       "    <tr>\n",
       "      <th>5999</th>\n",
       "      <td>ZUMZ</td>\n",
       "      <td>2016-12-30</td>\n",
       "      <td>21.90</td>\n",
       "      <td>22.190001</td>\n",
       "      <td>21.600000</td>\n",
       "      <td>21.85</td>\n",
       "      <td>280300</td>\n",
       "      <td>21.85</td>\n",
       "    </tr>\n",
       "    <tr>\n",
       "      <th>6000</th>\n",
       "      <td>ZIOP</td>\n",
       "      <td>2016-12-30</td>\n",
       "      <td>5.37</td>\n",
       "      <td>5.580000</td>\n",
       "      <td>5.270000</td>\n",
       "      <td>5.35</td>\n",
       "      <td>1586100</td>\n",
       "      <td>5.35</td>\n",
       "    </tr>\n",
       "    <tr>\n",
       "      <th>6001</th>\n",
       "      <td>ZYNE</td>\n",
       "      <td>2016-12-30</td>\n",
       "      <td>15.90</td>\n",
       "      <td>15.900000</td>\n",
       "      <td>15.400000</td>\n",
       "      <td>15.59</td>\n",
       "      <td>129500</td>\n",
       "      <td>15.59</td>\n",
       "    </tr>\n",
       "    <tr>\n",
       "      <th>6002</th>\n",
       "      <td>ZNGA</td>\n",
       "      <td>2016-12-30</td>\n",
       "      <td>2.58</td>\n",
       "      <td>2.600000</td>\n",
       "      <td>2.560000</td>\n",
       "      <td>2.57</td>\n",
       "      <td>7396600</td>\n",
       "      <td>2.57</td>\n",
       "    </tr>\n",
       "  </tbody>\n",
       "</table>\n",
       "<p>6003 rows × 8 columns</p>\n",
       "</div>"
      ],
      "text/plain": [
       "     symbol        date   open       high        low  close   volume   \n",
       "0       FAX  2016-12-30   4.65   4.700000   4.610000   4.63  3498900  \\\n",
       "1       IAF  2016-12-30   5.44   5.480000   5.400000   5.42   103500   \n",
       "2       FCO  2016-12-30   7.91   8.010000   7.910000   7.96    64800   \n",
       "3       ISL  2016-12-30  16.08  16.080000  16.059999  16.07     2400   \n",
       "4        IF  2016-12-30   6.38   6.380000   6.310000   6.36    19100   \n",
       "...     ...         ...    ...        ...        ...    ...      ...   \n",
       "5998   ZSAN  2016-12-30   0.77   0.810000   0.770000   0.78    50900   \n",
       "5999   ZUMZ  2016-12-30  21.90  22.190001  21.600000  21.85   280300   \n",
       "6000   ZIOP  2016-12-30   5.37   5.580000   5.270000   5.35  1586100   \n",
       "6001   ZYNE  2016-12-30  15.90  15.900000  15.400000  15.59   129500   \n",
       "6002   ZNGA  2016-12-30   2.58   2.600000   2.560000   2.57  7396600   \n",
       "\n",
       "      adj_close  \n",
       "0          4.63  \n",
       "1          5.42  \n",
       "2          7.96  \n",
       "3         16.07  \n",
       "4          6.36  \n",
       "...         ...  \n",
       "5998       0.78  \n",
       "5999      21.85  \n",
       "6000       5.35  \n",
       "6001      15.59  \n",
       "6002       2.57  \n",
       "\n",
       "[6003 rows x 8 columns]"
      ]
     },
     "execution_count": 23,
     "metadata": {},
     "output_type": "execute_result"
    }
   ],
   "source": [
    "import pandas as pd\n",
    "df = pd.read_csv ('/home/marta/datascience/data/data1/prices.csv')\n",
    "df  "
   ]
  },
  {
   "cell_type": "code",
   "execution_count": 24,
   "metadata": {},
   "outputs": [
    {
     "name": "stdout",
     "output_type": "stream",
     "text": [
      "2016-12-30 SEB 3951.98999\n",
      "2016-12-30 ALX 426.869995\n",
      "2016-12-30 Y 608.119995\n",
      "2016-12-30 AZO 789.789978\n",
      "2016-12-30 BH 473.200012\n",
      "2016-12-30 CABO 621.72998\n",
      "2017-01-02 ELC 26500.0\n",
      "2016-12-30 ELC 26500.0\n",
      "2016-12-30 GHC 511.950012\n",
      "2016-12-30 GOOG 771.820007\n",
      "2016-12-30 GOOGL 792.450012\n",
      "2016-12-30 AMZN 749.869995\n",
      "2016-12-30 ATRI 507.200012\n",
      "2016-12-30 MKL 904.5\n",
      "2016-12-30 MTD 418.559998\n",
      "2016-12-30 NEU 423.839996\n",
      "2016-12-30 NVR 1669.0\n",
      "2017-01-02 SAB 197700.0\n",
      "2016-12-30 SAB 197700.0\n",
      "2016-12-30 HBANP 1414.969971\n",
      "2016-12-30 ISRG 634.169983\n",
      "2016-12-30 WTM 836.049988\n",
      "2016-12-30 PCLN 1466.060059\n"
     ]
    }
   ],
   "source": [
    "import csv\n",
    "\n",
    "richCompanies = dict()\n",
    "with open ('/home/marta/datascience/data/data1/prices.csv', 'r') as f:\n",
    "    reader = csv.DictReader(f, delimiter=',')\n",
    "    for row in reader:\n",
    "        symbol = row [\"symbol\"]\n",
    "        date = row [\"date\"]\n",
    "        closing_price = float (row[\"close\"]) #pegar o preço de fechamento da bolsa\n",
    "        if closing_price > 400:\n",
    "            richCompanies[symbol] = closing_price\n",
    "            print (date, symbol, closing_price)"
   ]
  }
 ],
 "metadata": {
  "kernelspec": {
   "display_name": "Python 3",
   "language": "python",
   "name": "python3"
  },
  "language_info": {
   "codemirror_mode": {
    "name": "ipython",
    "version": 3
   },
   "file_extension": ".py",
   "mimetype": "text/x-python",
   "name": "python",
   "nbconvert_exporter": "python",
   "pygments_lexer": "ipython3",
   "version": "3.10.6"
  },
  "orig_nbformat": 4,
  "vscode": {
   "interpreter": {
    "hash": "916dbcbb3f70747c44a77c7bcd40155683ae19c65e1c03b4aa3499c5328201f1"
   }
  }
 },
 "nbformat": 4,
 "nbformat_minor": 2
}
