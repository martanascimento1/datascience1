{
 "cells": [
  {
   "attachments": {},
   "cell_type": "markdown",
   "metadata": {},
   "source": [
    "Exemplo de gráfico de linhas para múltiplas séries."
   ]
  },
  {
   "cell_type": "code",
   "execution_count": null,
   "metadata": {},
   "outputs": [],
   "source": [
    "import matplotlib.pyplot as plt\n",
    "import numpy as np\n",
    "import pandas as pd\n",
    "import os\n",
    "\n",
    "#mudando o diretório\n",
    "\n",
    "os.chdir('/home/marta/datascience')\n",
    "\n",
    "data_df = pd.DataFrame({'x': range(1,11),\n",
    "                       'y1' : np.random.randn(10),\n",
    "                       'y2' : np.random.randn(10),\n",
    "                       'y3' : np.random.randn(10)})\n",
    "\n",
    "plt.plot('x', 'y1', data = data_df, color = 'blue')\n",
    "plt.plot('x', 'y2', data = data_df, color = 'red')\n",
    "plt.plot('x', 'y3', data = data_df, color = 'green')\n",
    "\n",
    "plt.savefig('gráfico1.pdf', dpi = 300)\n",
    "plt.legend(labels = ['y1', 'y2', 'y3'])\n",
    "plt.show()\n",
    "\n",
    "\n"
   ]
  }
 ],
 "metadata": {
  "kernelspec": {
   "display_name": "Python 3",
   "language": "python",
   "name": "python3"
  },
  "language_info": {
   "codemirror_mode": {
    "name": "ipython",
    "version": 3
   },
   "file_extension": ".py",
   "mimetype": "text/x-python",
   "name": "python",
   "nbconvert_exporter": "python",
   "pygments_lexer": "ipython3",
   "version": "3.10.6 (main, Nov 14 2022, 16:10:14) [GCC 11.3.0]"
  },
  "orig_nbformat": 4,
  "vscode": {
   "interpreter": {
    "hash": "916dbcbb3f70747c44a77c7bcd40155683ae19c65e1c03b4aa3499c5328201f1"
   }
  }
 },
 "nbformat": 4,
 "nbformat_minor": 2
}
