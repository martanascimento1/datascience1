{
 "cells": [
  {
   "cell_type": "code",
   "execution_count": null,
   "metadata": {},
   "outputs": [],
   "source": [
    "# limpeza de dados\n",
    "\n",
    "import pandas as pd\n",
    "import os\n",
    "\n",
    "#os.chdir('/home/marta/Downloads/data')\n",
    "#os.getcwd()\n",
    "data = pd.read_csv ('data2.csv')\n",
    "data\n",
    "\n",
    "# verificando valores faltantes\n",
    "#data.isna()\n",
    "#data.isna().sum()\n",
    "#data.isna().sum().sum()\n",
    "\n",
    "#media = data['Calories'].mean()\n",
    "#mediana = data['Calories'].median()\n",
    "#moda = data['Calories'].mode()\n",
    "\n",
    "#print (media)\n",
    "#print (mediana)\n",
    "#print (moda)\n",
    "\n",
    "#data ['Calories'] = data ['Calories'].fillna(mediana)\n",
    "\n",
    "data.Date[22] = '2020/12/22'\n",
    "data\n"
   ]
  },
  {
   "cell_type": "code",
   "execution_count": null,
   "metadata": {},
   "outputs": [],
   "source": [
    "import pandas as pd\n",
    "import os\n",
    "\n",
    "os.chdir('/home/marta/Downloads/data')\n",
    "os.getcwd()\n",
    "#data = pd.read_csv ('data2.csv')\n",
    "#data = data.dropna()\n",
    "#data\n",
    "data.isna().sum()"
   ]
  },
  {
   "cell_type": "code",
   "execution_count": 1,
   "metadata": {},
   "outputs": [],
   "source": [
    "import pandas as pd\n",
    "import os\n",
    "\n",
    "os.chdir('/home/marta/datascience/data/data1')\n",
    "os.getcwd()\n",
    "data = pd.read_csv ('data2.csv')\n",
    "#data.duplicated()\n",
    "data = data.drop_duplicates()\n",
    "data.to_csv('data2-sem-duplicate.csv')"
   ]
  }
 ],
 "metadata": {
  "kernelspec": {
   "display_name": "Python 3",
   "language": "python",
   "name": "python3"
  },
  "language_info": {
   "codemirror_mode": {
    "name": "ipython",
    "version": 3
   },
   "file_extension": ".py",
   "mimetype": "text/x-python",
   "name": "python",
   "nbconvert_exporter": "python",
   "pygments_lexer": "ipython3",
   "version": "3.10.6"
  },
  "orig_nbformat": 4,
  "vscode": {
   "interpreter": {
    "hash": "916dbcbb3f70747c44a77c7bcd40155683ae19c65e1c03b4aa3499c5328201f1"
   }
  }
 },
 "nbformat": 4,
 "nbformat_minor": 2
}
