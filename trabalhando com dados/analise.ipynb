{
 "cells": [
  {
   "cell_type": "code",
   "execution_count": null,
   "metadata": {},
   "outputs": [],
   "source": [
    "import pandas as pd\n",
    "import os\n",
    "os.chdir('/home/marta/datascience/data/data1/')\n",
    "\n",
    "data = pd.read_csv ('data1.csv', sep= ';')\n",
    "\n",
    "#explorando um data frame\n",
    "\n",
    "#data.head()\n",
    "#data.head(10)\n",
    "\n",
    "#data.tail()\n",
    "#data.tail(10)\n",
    "\n",
    "#data.info()\n",
    "\n",
    "# acesso aos elementos de um data frame\n",
    "\n",
    "#data[0:2]      #intervalo de linhas\n",
    "#data [:4]      #intervalo de linhas c omissão de índice à esquerda\n",
    "\n",
    "#data ['Turma']            #seleção de uma coluna\n",
    "#data [['Turma', 'Sexo']]  #seleção de mais de uma coluna\n",
    "\n",
    "#data.iloc[0:4, 1:4]          #seleção de intervalos de linhas e de colunas por índice das colunas\n",
    "#data.loc[0:4, 'Turma':'Idade'] #seleção de intervalos de linhas e de colunas por rótulo das colunas\n",
    "\n",
    "\n",
    "#FILTROS\n",
    "#data[data.Idade == 17]\n",
    "#data[data.Idade > 17]\n",
    "#data[data.Idade != 18]\n",
    "#data[(data.Idade >=17) & (data.Idade <20)]\n",
    "\n",
    "#Classificação\n",
    "\n",
    "#data.sort_values(by = ['Sexo'])\n",
    "#data.sort_values(by = ['Sexo', 'Idade'])\n",
    "#data.sort_values(by = ['Idade'], ascending= False)\n",
    "\n",
    "\n",
    "\n"
   ]
  },
  {
   "cell_type": "code",
   "execution_count": 1,
   "metadata": {},
   "outputs": [],
   "source": [
    "import pandas as pd\n",
    "import os\n",
    "os.chdir('/home/marta/datascience/data/data1/')\n",
    "data = pd.read_csv ('data1.csv', sep= ';')\n",
    "\n",
    "# Medidas descritivas\n",
    "\n",
    "#data['Idade'].mean()\n",
    "#data['Idade'].median()\n",
    "#data['Idade'].mode()\n",
    "\n",
    "#data['Idade'].var()\n",
    "#data['Idade'].std()\n",
    "\n",
    "#data['Idade'].describe() \n",
    "#data.describe()\n",
    "\n",
    "#Tabelas de frequência\n",
    "\n",
    "#data['Sexo'].value_counts()                           #frequências absolutas\n",
    "#(data['Sexo'].value_counts())/(data['Sexo'].count())  #frequências relativas\n",
    "\n",
    "# Tabulação cruzada\n",
    "#pd.crosstab(data['Turma'], data['Sexo'])\n",
    "\n",
    "# Correlações\n",
    "#data.corr()\n",
    "#data_F = data[data['Sexo'] =='F']\n",
    "#data_M = data[data['Sexo'] =='M']\n",
    "#data_M\n",
    "\n",
    "#data_F[['Alt', 'Peso']].corr()\n",
    "#data_M[['Alt', 'Peso']].corr()\n",
    "\n",
    "\n"
   ]
  }
 ],
 "metadata": {
  "kernelspec": {
   "display_name": "Python 3",
   "language": "python",
   "name": "python3"
  },
  "language_info": {
   "codemirror_mode": {
    "name": "ipython",
    "version": 3
   },
   "file_extension": ".py",
   "mimetype": "text/x-python",
   "name": "python",
   "nbconvert_exporter": "python",
   "pygments_lexer": "ipython3",
   "version": "3.10.6"
  },
  "orig_nbformat": 4,
  "vscode": {
   "interpreter": {
    "hash": "916dbcbb3f70747c44a77c7bcd40155683ae19c65e1c03b4aa3499c5328201f1"
   }
  }
 },
 "nbformat": 4,
 "nbformat_minor": 2
}
